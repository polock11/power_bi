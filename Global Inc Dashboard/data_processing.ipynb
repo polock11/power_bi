{
  "nbformat": 4,
  "nbformat_minor": 0,
  "metadata": {
    "colab": {
      "provenance": [],
      "authorship_tag": "ABX9TyNAgDQ15RZ7BY5jli3T37CN",
      "include_colab_link": true
    },
    "kernelspec": {
      "name": "python3",
      "display_name": "Python 3"
    },
    "language_info": {
      "name": "python"
    }
  },
  "cells": [
    {
      "cell_type": "markdown",
      "metadata": {
        "id": "view-in-github",
        "colab_type": "text"
      },
      "source": [
        "<a href=\"https://colab.research.google.com/github/polock11/power_bi/blob/main/sale_data_power_bi.ipynb\" target=\"_parent\"><img src=\"https://colab.research.google.com/assets/colab-badge.svg\" alt=\"Open In Colab\"/></a>"
      ]
    },
    {
      "cell_type": "code",
      "execution_count": null,
      "metadata": {
        "id": "ZXZjAF_el_6F"
      },
      "outputs": [],
      "source": [
        "# pip uninstall pandasql\n",
        "# pip uninstall pandas\n",
        "# pip install pandas===2.0.3\n",
        "# pip install pandasql===0.7.3\n",
        "# restart runtime\n",
        "\n",
        "import pandas as pd\n",
        "import pandasql as ps\n",
        "from pandasql import sqldf\n",
        "from sqlalchemy import text\n"
      ]
    },
    {
      "cell_type": "code",
      "source": [
        "orders = pd.read_csv('orders.csv')\n",
        "people = pd.read_csv('people.csv')\n",
        "returns = pd.read_csv('returns.csv')"
      ],
      "metadata": {
        "id": "PlBDne-Wmeq5"
      },
      "execution_count": 43,
      "outputs": []
    },
    {
      "cell_type": "code",
      "source": [
        "orders = orders.drop(['postal_code', 'row_id'], axis=1)\n",
        "orders.head()"
      ],
      "metadata": {
        "id": "ZmvtRB6NXVYZ"
      },
      "execution_count": null,
      "outputs": []
    },
    {
      "cell_type": "code",
      "source": [
        "orders.info()"
      ],
      "metadata": {
        "id": "RIiJxzslm5kE"
      },
      "execution_count": null,
      "outputs": []
    },
    {
      "cell_type": "code",
      "source": [
        "orders.isnull().sum()"
      ],
      "metadata": {
        "id": "hRArQ0H_n2fv"
      },
      "execution_count": null,
      "outputs": []
    },
    {
      "cell_type": "code",
      "source": [
        "#query = \"select order_id, count(*) from orders group by order_id having count(*) > 1\"\n",
        "#query = 'select * from orders where order_id = \"AE-2015-GH4665138-42351\"'\n",
        "#pysqldf = lambda q: sqldf(q, globals())\n",
        "#query = ''' select * from orders where order_id = \"CA-2012-SA20830140-41210\" '''\n",
        "\n",
        "query  = ''' select orders.*, returned, returns.region as returned_region from orders left join returns on orders.order_id = returns.order_id '''\n",
        "\n",
        "df = ps.sqldf(query, locals())\n"
      ],
      "metadata": {
        "id": "_9cFgorpqWGy"
      },
      "execution_count": 45,
      "outputs": []
    },
    {
      "cell_type": "code",
      "source": [
        "#q  = '''select count(1) from df where returned = 1 ''' US-2015-TC2114555-42166\tAE-2014-MY7380138-42004\n",
        "#q = '''select order_id, count(*) from df where returned = 1 group by order_id having count(*) > 1 '''\n",
        "#query = 'select * from orders where order_id = \"AE-2015-GH4665138-42351\"'\n",
        "q = 'select * from df where order_id = \"US-2015-TC2114555-42166\"'\n",
        "ps.sqldf(q, locals())"
      ],
      "metadata": {
        "id": "yWyGt_d6OFXx"
      },
      "execution_count": null,
      "outputs": []
    },
    {
      "cell_type": "code",
      "source": [
        "q  = '''select returned_region,* from df where returned_region != 'N/A' '''\n",
        "ps.sqldf(q, locals())"
      ],
      "metadata": {
        "id": "Y2SBQVkuwcBZ"
      },
      "execution_count": null,
      "outputs": []
    },
    {
      "cell_type": "code",
      "source": [
        "df.isnull().sum()"
      ],
      "metadata": {
        "id": "_G7ekqbuXCiG"
      },
      "execution_count": null,
      "outputs": []
    },
    {
      "cell_type": "code",
      "source": [
        "df['returned'].fillna(0, inplace=True)\n",
        "df['returned_region'].fillna('N/A', inplace=True)\n"
      ],
      "metadata": {
        "id": "TGrmsSxaUUhb"
      },
      "execution_count": 48,
      "outputs": []
    },
    {
      "cell_type": "code",
      "source": [
        "df[df['returned_region'].isna()]"
      ],
      "metadata": {
        "id": "jlYKzeJaW3BS"
      },
      "execution_count": null,
      "outputs": []
    },
    {
      "cell_type": "code",
      "source": [
        "df['sales'] = df['sales'].round(2)\n",
        "df['profit'] = df['profit'].round(2)\n",
        "df['shipping_cost'] = df['shipping_cost'].round(2)"
      ],
      "metadata": {
        "id": "Xt7daOjHdTPE"
      },
      "execution_count": 56,
      "outputs": []
    },
    {
      "cell_type": "code",
      "source": [
        "df.head()"
      ],
      "metadata": {
        "id": "qheu2GyMsB6U"
      },
      "execution_count": null,
      "outputs": []
    },
    {
      "cell_type": "code",
      "source": [
        "df.to_csv('final_sale_data.csv')"
      ],
      "metadata": {
        "id": "A3xGfG5ys88A"
      },
      "execution_count": 58,
      "outputs": []
    }
  ]
}